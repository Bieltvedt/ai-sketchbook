{
 "cells": [
  {
   "cell_type": "markdown",
   "metadata": {},
   "source": [
    "### Maze Visualizer\n",
    "\n",
    "In order to help visualize your solutions to the Travelling Robot Problem, you are provided with a Visualizer class. This notebook will walk you through how to use its methods to help visualize the maze and your solution paths. You do not need to deliver any visualization, but it can help you debug and verify the quality of your solutions."
   ]
  },
  {
   "cell_type": "markdown",
   "metadata": {},
   "source": [
    "##### Imports"
   ]
  },
  {
   "cell_type": "code",
   "execution_count": 3,
   "metadata": {},
   "outputs": [
    {
     "ename": "ModuleNotFoundError",
     "evalue": "No module named 'tsp_util'",
     "output_type": "error",
     "traceback": [
      "\u001b[0;31m---------------------------------------------------------------------------\u001b[0m",
      "\u001b[0;31mModuleNotFoundError\u001b[0m                       Traceback (most recent call last)",
      "Cell \u001b[0;32mIn[3], line 1\u001b[0m\n\u001b[0;32m----> 1\u001b[0m \u001b[39mfrom\u001b[39;00m \u001b[39mtsp_util\u001b[39;00m\u001b[39m.\u001b[39;00m\u001b[39mPathSpecification\u001b[39;00m \u001b[39mimport\u001b[39;00m PathSpecification\n\u001b[1;32m      2\u001b[0m \u001b[39mfrom\u001b[39;00m \u001b[39mtsp_util\u001b[39;00m\u001b[39m.\u001b[39;00m\u001b[39mTSPData\u001b[39;00m \u001b[39mimport\u001b[39;00m TSPData\n\u001b[1;32m      3\u001b[0m \u001b[39mfrom\u001b[39;00m \u001b[39mVisualizerHelpers\u001b[39;00m \u001b[39mimport\u001b[39;00m Maze\n",
      "\u001b[0;31mModuleNotFoundError\u001b[0m: No module named 'tsp_util'"
     ]
    }
   ],
   "source": [
    "from tsp_util.PathSpecification import PathSpecification\n",
    "from tsp_util.TSPData import TSPData\n",
    "from VisualizerHelpers import Maze\n",
    "from Visualizer import Visualizer"
   ]
  },
  {
   "cell_type": "markdown",
   "metadata": {},
   "source": [
    "##### 1. Visualizing a maze\n",
    "\n",
    "The cell below shows you how to visualize a \"plain\" maze."
   ]
  },
  {
   "cell_type": "code",
   "execution_count": 1,
   "metadata": {},
   "outputs": [
    {
     "ename": "NameError",
     "evalue": "name 'Maze' is not defined",
     "output_type": "error",
     "traceback": [
      "\u001b[0;31m---------------------------------------------------------------------------\u001b[0m",
      "\u001b[0;31mNameError\u001b[0m                                 Traceback (most recent call last)",
      "Cell \u001b[0;32mIn[1], line 2\u001b[0m\n\u001b[1;32m      1\u001b[0m \u001b[39m# Initialize the maze \u001b[39;00m\n\u001b[0;32m----> 2\u001b[0m maze \u001b[39m=\u001b[39m Maze\u001b[39m.\u001b[39mcreate_maze(\u001b[39m\"\u001b[39m\u001b[39m./../data/hard_maze.txt\u001b[39m\u001b[39m\"\u001b[39m)\n\u001b[1;32m      4\u001b[0m \u001b[39m# Visualize the maze created\u001b[39;00m\n\u001b[1;32m      5\u001b[0m Visualizer\u001b[39m.\u001b[39mvisualize_maze(maze)\n",
      "\u001b[0;31mNameError\u001b[0m: name 'Maze' is not defined"
     ]
    }
   ],
   "source": [
    "# Initialize the maze \n",
    "maze = Maze.create_maze(\"./../data/hard_maze.txt\")\n",
    "\n",
    "# Visualize the maze created\n",
    "Visualizer.visualize_maze(maze)"
   ]
  },
  {
   "cell_type": "markdown",
   "metadata": {},
   "source": [
    "##### 2. Visualizing an individual path\n",
    "\n",
    "Here, the visualizer displays the maze, start and end locations, as well as the route you provide to it. Start location is marked blue and the end location is marked green. In our mock example below, we display the route between products 0 and 17 derived from optimal_tsp. This is only for illustration purposes. \n",
    "\n",
    "Run the cell below to visualize an individual route."
   ]
  },
  {
   "cell_type": "code",
   "execution_count": null,
   "metadata": {},
   "outputs": [],
   "source": [
    "# Initializing the maze\n",
    "maze = Maze.create_maze(\"./../data/hard_maze.txt\")\n",
    "\n",
    "# TSP Data for our example\n",
    "tsp_data = TSPData.read_from_file(\"./../data/optimal_tsp\")\n",
    "\n",
    "# Initialize the path specification object\n",
    "spec = PathSpecification(tsp_data.product_locations[0], tsp_data.product_locations[17])\n",
    "\n",
    "# The route\n",
    "route = tsp_data.product_to_product[0][17]\n",
    "\n",
    "# Visualizing the path\n",
    "Visualizer.visualize_individual_path(maze, route, spec)"
   ]
  },
  {
   "cell_type": "markdown",
   "metadata": {},
   "source": [
    "### 3. Visualizing a series of paths\n",
    "\n",
    "This implementation is useful for visualizing your Traveling Robot Problem solution. \n",
    "\n",
    "Given the maze, solution product sequence and the TSPData object consisting of paths between all pairs of products, this method visualizes the complete path taken by your supermarket robot. We have provided a mock sequence only for illustration purposes.\n",
    "\n",
    "The method generates a series of plots. First plot is between the start location of the maze and the first product visited. Every subsequent plot displays the path between 2 consecutive products according to the solution ordering (in our mock solution for instance, the first plot is between start and 0, second plot between 0 and 1 and so on). Finally, the last plot displays the path between the last product and the end location (here, between 17 and the end).\n",
    "\n",
    "Run the cell below, and go through each of the plots one after the other carefully to understand the overall path taken. In every plot, the path up until the previous plot is coloured red, while the newest addition to the path is coloured pink."
   ]
  },
  {
   "cell_type": "code",
   "execution_count": null,
   "metadata": {},
   "outputs": [],
   "source": [
    "# TSPData object\n",
    "tsp_data = TSPData.read_from_file(\"./../data/optimal_tsp\")\n",
    "\n",
    "# A mock solution\n",
    "solution = [0, 1, 2, 3, 4, 5, 6, 7, 8, 9, 10, 11, 12, 13, 14, 15, 16, 17]\n",
    "\n",
    "# Initializing the maze\n",
    "maze = Maze.create_maze(\"./../data/hard_maze.txt\")\n",
    "\n",
    "# Visualizing the solution paths one by one\n",
    "Visualizer.visualize_tsp_solution_paths(maze, solution, tsp_data)"
   ]
  },
  {
   "cell_type": "markdown",
   "metadata": {},
   "source": [
    "##### 4. A short note on interactivity\n",
    "\n",
    "Enriching the plots you generate with interactivity (responsiveness to mouse and keyboard events) can allow you to more effectively debug and verify the details of your implementation. \n",
    "\n",
    "Run the cell below (similar to part 2 of this notebook, but notice the '%matplotlib notebook' IPython magic). You will now be able to, for instance, find the co-ordinates of a point by hovering your cursor over it. You can learn more about interactivity [in the matplotlib documentation](https://matplotlib.org/stable/users/explain/figure/interactive.html)."
   ]
  },
  {
   "cell_type": "code",
   "execution_count": null,
   "metadata": {},
   "outputs": [],
   "source": [
    "%matplotlib notebook\n",
    "\n",
    "maze = Maze.create_maze(\"./../data/hard_maze.txt\")\n",
    "tsp_data = TSPData.read_from_file(\"./../data/optimal_tsp\")\n",
    "spec = PathSpecification(tsp_data.product_locations[0], tsp_data.product_locations[17])\n",
    "route = tsp_data.product_to_product[0][17]\n",
    "\n",
    "Visualizer.visualize_individual_path(maze, route, spec)"
   ]
  }
 ],
 "metadata": {
  "kernelspec": {
   "display_name": "Python 3 (ipykernel)",
   "language": "python",
   "name": "python3"
  },
  "language_info": {
   "codemirror_mode": {
    "name": "ipython",
    "version": 3
   },
   "file_extension": ".py",
   "mimetype": "text/x-python",
   "name": "python",
   "nbconvert_exporter": "python",
   "pygments_lexer": "ipython3",
   "version": "3.11.4"
  }
 },
 "nbformat": 4,
 "nbformat_minor": 2
}
