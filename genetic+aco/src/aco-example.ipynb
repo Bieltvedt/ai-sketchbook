{
 "cells": [
  {
   "cell_type": "markdown",
   "metadata": {},
   "source": [
    "#### Imports"
   ]
  },
  {
   "cell_type": "code",
   "execution_count": 1,
   "metadata": {},
   "outputs": [],
   "source": [
    "import time\n",
    "\n",
    "from tsp_util.PathSpecification import PathSpecification\n",
    "from tsp_util.Maze import Maze\n",
    "\n",
    "from aco.ACOConvergence import ACOConvergence\n",
    "from aco.AntColonyOptimization import AntColonyOptimization\n",
    "from aco.IntelligentAnt import IntelligentAnt\n",
    "\n",
    "from viz_util.Visualizer import Visualizer"
   ]
  },
  {
   "cell_type": "markdown",
   "metadata": {},
   "source": [
    "#### ACO Modifications\n"
   ]
  },
  {
   "cell_type": "markdown",
   "metadata": {},
   "source": [
    "1. Dynamic Alpha\n",
    "\n",
    "    Problem Tackled: Premature convergence caused by an over-reliance on pheromones in the early stages leading to suboptimal solutions.\n",
    "    Solution: Start with a lower alpha value, allowing more exploration at the beginning. Gradually increase alpha over iterations, focusing ants on exploiting the best-found paths later in the search process.\n",
    "\n",
    "2. Alpha and Beta Sampling\n",
    "\n",
    "    Problem Tackled: Lack of diversity in exploration strategies can lead to stagnation.\n",
    "    Solution: Instead of all ants having the same alpha and beta values (which influences how much they focus on pheromone trails vs. heuristic factors), we sample alpha and beta values from a normal distribution.\n",
    "\n",
    "3. Parameterized Elitism\n",
    "\n",
    "    Problem Tackled: Fine-tuning the balance between preserving good solutions and promoting diverse exploration. Helps in finding tricky but faster routes \n",
    "    Solution: Introduce a parameter to control the number of \"elite ants\". The pheromone trails of these top-performing ants are given extra weight when updating pheromone levels after each iteration.\n",
    "\n",
    "4. Ant Memory\n",
    "\n",
    "    Problem Tackled: Ants wasting time revisiting areas and getting trapped in dead ends.\n",
    "    Solution: Give each ant a simple memory to keep track of recently visited locations and avoid revisting them. In dead ends, use memory to backtrack efficiently."
   ]
  },
  {
   "cell_type": "markdown",
   "metadata": {},
   "source": [
    "### Example Usage"
   ]
  },
  {
   "cell_type": "code",
   "execution_count": 3,
   "metadata": {},
   "outputs": [
    {
     "name": "stdout",
     "output_type": "stream",
     "text": [
      "Ready reading maze file ./../data/hard_maze.txt\n",
      "stagnation convergence!\n",
      "find_shortest_route()\n",
      "Time taken: 404.181\n",
      "Route size: 879\titerations: 2048\n",
      "\n"
     ]
    }
   ],
   "source": [
    "# Change maze difficulty here. ['toy', 'easy', 'medium', 'hard', 'insane']\n",
    "MAZE_DIFFICULTY = 'hard'\n",
    "\n",
    "\"\"\"\n",
    "Params for initializing AntColonyOptimization\n",
    "Convergence is a custom class that handles convergence, if thresh=None the corresponding check is ignored\n",
    "\n",
    "ants_per_gen -> nr of ants per generation\n",
    "generations -> nr of generations to run for\n",
    "q -> param controlling pheremone update strength. q * 1/length\n",
    "evaporation -> evaperation percentage per generation.\n",
    "elitism -> elitism multiplier. Elite ants leave q * elitism pheremones\n",
    "n_elite -> Number of ants to apply elitism to. Picks top n ants\n",
    "alpha -> Controlls strength of pheremones for probability calculation. Used as mean for sampling.\n",
    "beta -> Controlls strength of heuristic for probability calculation. Used as mean for sampling\n",
    "alpha_increase -> Percentage to increase alpha by each generation. Can be set to decrease alpha.\n",
    "alpha_beta_dev -> Standard deviation to use for alpha/beta sampling\n",
    "ant_class -> ant class to initialize (f.x StandardAnt, IntelligentAnt)\n",
    "convergence -> custom class to handle convergence.\n",
    "    - max_iter : max iterations (ant.find_route()s) before stopping\n",
    "    - stagnation threshold : max pheremone updates without imporovement before stopping\n",
    "    - quality threshold: stops once quality => quality threshold\n",
    "    - consistency threshold: stops once max difference in last pheremones and current ones less than threshold\n",
    "\"\"\"\n",
    "ACO_PARAMS = {\n",
    "    'ants_per_gen':32,\n",
    "    'generations':1024,\n",
    "    'q':512,\n",
    "    'evaporation':0.1,\n",
    "    'elitism':2,\n",
    "    'n_elite':4,\n",
    "    'alpha':1,\n",
    "    'beta':1,\n",
    "    'alpha_increase':0.01,\n",
    "    'alpha_beta_dev':4,\n",
    "    'ant_class': IntelligentAnt,\n",
    "    'convergence':ACOConvergence(\n",
    "        max_iter=None, stagnation_threshold=64,\n",
    "        quality_threshold=None, consistency_threshold=None\n",
    "    )\n",
    "}\n",
    "\n",
    "# Construct the optimization objects\n",
    "maze = Maze.create_maze(f\"./../data/{MAZE_DIFFICULTY}_maze.txt\")\n",
    "spec = PathSpecification.read_coordinates(f\"./../data/{MAZE_DIFFICULTY}_coordinates.txt\")\n",
    "aco = AntColonyOptimization(maze=maze, **ACO_PARAMS)\n",
    "\n",
    "# Run with multiprocessing\n",
    "start_time_normal = int(round(time.time() * 1000))\n",
    "shortest_route_normal = aco.find_shortest_route_multiproc(path_specification=spec)\n",
    "print(\"find_shortest_route()\")\n",
    "print(\"Time taken: \" + str((int(round(time.time() * 1000)) - start_time_normal) / 1000.0))\n",
    "print(\"Route size: \" + str(shortest_route_normal.size()) + \"\\titerations: \" + str(aco.iterations) + '\\n')"
   ]
  },
  {
   "cell_type": "code",
   "execution_count": 4,
   "metadata": {},
   "outputs": [
    {
     "data": {
      "image/png": "[encoded data removed]",
      "text/plain": [
       "<Figure size 700x700 with 1 Axes>"
      ]
     },
     "metadata": {},
     "output_type": "display_data"
    }
   ],
   "source": [
    "Visualizer.visualize_individual_path(maze, shortest_route_normal, spec)"
   ]
  }
 ],
 "metadata": {
  "kernelspec": {
   "display_name": "venv",
   "language": "python",
   "name": "python3"
  },
  "language_info": {
   "codemirror_mode": {
    "name": "ipython",
    "version": 3
   },
   "file_extension": ".py",
   "mimetype": "text/x-python",
   "name": "python",
   "nbconvert_exporter": "python",
   "pygments_lexer": "ipython3",
   "version": "3.11.4"
  },
  "orig_nbformat": 4
 },
 "nbformat": 4,
 "nbformat_minor": 2
}
